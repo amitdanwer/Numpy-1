{
 "cells": [
  {
   "cell_type": "code",
   "execution_count": 14,
   "metadata": {},
   "outputs": [
    {
     "name": "stdout",
     "output_type": "stream",
     "text": [
      "[[ 1  1  1]\n",
      " [ 1  2  4]\n",
      " [ 1  3  9]\n",
      " [ 1  4 16]\n",
      " [ 1  5 25]]\n"
     ]
    }
   ],
   "source": [
    "#Write a function so that the columns of the output matrix are powers of the input vector.\n",
    "\n",
    "#The order of the powers is determined by the increasing boolean argument. Specifically,\n",
    "#when increasing is False, the i-th output column is the input vector raised element-wise\n",
    "#to the power of N - i - 1.\n",
    "\n",
    "import numpy as np\n",
    "\n",
    "\n",
    "def funcArray(x,n,boolVal):\n",
    "\n",
    "    if boolVal==False:\n",
    "        print(np.vander(x,n,boolVal))\n",
    "        \n",
    "    else:\n",
    "         print(np.vander(x,n,boolVal))\n",
    "        \n",
    "            \n",
    "# Calling function to display matrix with increasing as TRUE and FALSE\n",
    "funcArray(np.arange(1,6),3,True)\n"
   ]
  },
  {
   "cell_type": "code",
   "execution_count": null,
   "metadata": {},
   "outputs": [],
   "source": []
  },
  {
   "cell_type": "code",
   "execution_count": 15,
   "metadata": {},
   "outputs": [
    {
     "name": "stdout",
     "output_type": "stream",
     "text": [
      "[[ 1  1  1]\n",
      " [ 4  2  1]\n",
      " [ 9  3  1]\n",
      " [16  4  1]\n",
      " [25  5  1]]\n"
     ]
    }
   ],
   "source": [
    "#Write a function so that the columns of the output matrix are powers of the input vector.\n",
    "\n",
    "#The order of the powers is determined by the increasing boolean argument. Specifically,\n",
    "#when increasing is False, the i-th output column is the input vector raised element-wise\n",
    "#to the power of N - i - 1.\n",
    "\n",
    "import numpy as np\n",
    "\n",
    "\n",
    "def funcArray(x,n,boolVal):\n",
    "\n",
    "    if boolVal==False:\n",
    "        print(np.vander(x,n,boolVal))\n",
    "        \n",
    "    else:\n",
    "         print(np.vander(x,n,boolVal))\n",
    "        \n",
    "            \n",
    "# Calling function to display matrix with increasing as TRUE and FALSE\n",
    "funcArray(np.arange(1,6),3,False)\n"
   ]
  },
  {
   "cell_type": "code",
   "execution_count": null,
   "metadata": {},
   "outputs": [],
   "source": []
  }
 ],
 "metadata": {
  "kernelspec": {
   "display_name": "Python 3",
   "language": "python",
   "name": "python3"
  },
  "language_info": {
   "codemirror_mode": {
    "name": "ipython",
    "version": 3
   },
   "file_extension": ".py",
   "mimetype": "text/x-python",
   "name": "python",
   "nbconvert_exporter": "python",
   "pygments_lexer": "ipython3",
   "version": "3.6.4"
  }
 },
 "nbformat": 4,
 "nbformat_minor": 2
}
